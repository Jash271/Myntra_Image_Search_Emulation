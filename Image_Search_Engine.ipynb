{
 "cells": [
  {
   "cell_type": "code",
   "execution_count": 206,
   "metadata": {},
   "outputs": [],
   "source": [
    "import numpy as np \n",
    "import pandas as pd \n",
    "import matplotlib.pyplot as plt\n",
    "import matplotlib.image as mpimg\n",
    "import cv2\n",
    "from PIL import Image\n",
    "import pickle "
   ]
  },
  {
   "cell_type": "code",
   "execution_count": 180,
   "metadata": {},
   "outputs": [],
   "source": [
    "df = pd.read_csv('data.csv')"
   ]
  },
  {
   "cell_type": "code",
   "execution_count": 181,
   "metadata": {},
   "outputs": [],
   "source": [
    "def Add_Image(path):\n",
    "    df = pd.read_csv('data.csv')\n",
    "    img=Image.open(path)\n",
    "    new_img=img.resize((64,64),Image.ANTIALIAS)\n",
    "    new_img.save('image_test.jpg')\n",
    "    k=cv2.imread(f'image_test.jpg')\n",
    "    k=k.reshape(-1,12288)\n",
    "    print(k)\n",
    "    \n",
    "    return k"
   ]
  },
  {
   "cell_type": "code",
   "execution_count": 182,
   "metadata": {},
   "outputs": [],
   "source": [
    "img_1=Image.open('img_1.jpg')"
   ]
  },
  {
   "cell_type": "code",
   "execution_count": 183,
   "metadata": {},
   "outputs": [],
   "source": [
    "s=np.asarray(img_1)\n",
    "s=s.reshape(-1,12288)"
   ]
  },
  {
   "cell_type": "code",
   "execution_count": 184,
   "metadata": {},
   "outputs": [],
   "source": [
    "img_2=Image.open('img_2.jpg')\n",
    "o=np.asarray(img_2).reshape(-1,12288)"
   ]
  },
  {
   "cell_type": "code",
   "execution_count": 185,
   "metadata": {},
   "outputs": [],
   "source": [
    "img_3=Image.open('img_3.jpg')\n",
    "n=np.asarray(img_3).reshape(-1,12288)"
   ]
  },
  {
   "cell_type": "code",
   "execution_count": 207,
   "metadata": {},
   "outputs": [],
   "source": [
    "p=[s[0],o[0],n[0]]"
   ]
  },
  {
   "cell_type": "code",
   "execution_count": 187,
   "metadata": {},
   "outputs": [
    {
     "data": {
      "text/plain": [
       "[array([230, 228, 229, ..., 208, 206, 207], dtype=uint8),\n",
       " array([247, 247, 247, ..., 247, 245, 255], dtype=uint8),\n",
       " array([189, 189, 191, ..., 177, 174, 181], dtype=uint8)]"
      ]
     },
     "execution_count": 187,
     "metadata": {},
     "output_type": "execute_result"
    }
   ],
   "source": [
    "p"
   ]
  },
  {
   "cell_type": "code",
   "execution_count": 188,
   "metadata": {},
   "outputs": [
    {
     "name": "stdout",
     "output_type": "stream",
     "text": [
      "[[255 255 255 ... 255 255 255]]\n"
     ]
    }
   ],
   "source": [
    "k=Add_Image('img_4.jpg')"
   ]
  },
  {
   "cell_type": "code",
   "execution_count": 189,
   "metadata": {},
   "outputs": [],
   "source": [
    "p.append(k[0])"
   ]
  },
  {
   "cell_type": "code",
   "execution_count": 190,
   "metadata": {},
   "outputs": [
    {
     "data": {
      "text/plain": [
       "[array([230, 228, 229, ..., 208, 206, 207], dtype=uint8),\n",
       " array([247, 247, 247, ..., 247, 245, 255], dtype=uint8),\n",
       " array([189, 189, 191, ..., 177, 174, 181], dtype=uint8),\n",
       " array([255, 255, 255, ..., 255, 255, 255], dtype=uint8)]"
      ]
     },
     "execution_count": 190,
     "metadata": {},
     "output_type": "execute_result"
    }
   ],
   "source": [
    "p"
   ]
  },
  {
   "cell_type": "code",
   "execution_count": 191,
   "metadata": {},
   "outputs": [],
   "source": [
    "df=pd.DataFrame(p)"
   ]
  },
  {
   "cell_type": "code",
   "execution_count": 192,
   "metadata": {},
   "outputs": [
    {
     "data": {
      "text/html": [
       "<div>\n",
       "<style scoped>\n",
       "    .dataframe tbody tr th:only-of-type {\n",
       "        vertical-align: middle;\n",
       "    }\n",
       "\n",
       "    .dataframe tbody tr th {\n",
       "        vertical-align: top;\n",
       "    }\n",
       "\n",
       "    .dataframe thead th {\n",
       "        text-align: right;\n",
       "    }\n",
       "</style>\n",
       "<table border=\"1\" class=\"dataframe\">\n",
       "  <thead>\n",
       "    <tr style=\"text-align: right;\">\n",
       "      <th></th>\n",
       "      <th>0</th>\n",
       "      <th>1</th>\n",
       "      <th>2</th>\n",
       "      <th>3</th>\n",
       "      <th>4</th>\n",
       "      <th>5</th>\n",
       "      <th>6</th>\n",
       "      <th>7</th>\n",
       "      <th>8</th>\n",
       "      <th>9</th>\n",
       "      <th>...</th>\n",
       "      <th>12278</th>\n",
       "      <th>12279</th>\n",
       "      <th>12280</th>\n",
       "      <th>12281</th>\n",
       "      <th>12282</th>\n",
       "      <th>12283</th>\n",
       "      <th>12284</th>\n",
       "      <th>12285</th>\n",
       "      <th>12286</th>\n",
       "      <th>12287</th>\n",
       "    </tr>\n",
       "  </thead>\n",
       "  <tbody>\n",
       "    <tr>\n",
       "      <th>0</th>\n",
       "      <td>230</td>\n",
       "      <td>228</td>\n",
       "      <td>229</td>\n",
       "      <td>230</td>\n",
       "      <td>228</td>\n",
       "      <td>229</td>\n",
       "      <td>229</td>\n",
       "      <td>227</td>\n",
       "      <td>230</td>\n",
       "      <td>229</td>\n",
       "      <td>...</td>\n",
       "      <td>211</td>\n",
       "      <td>210</td>\n",
       "      <td>208</td>\n",
       "      <td>209</td>\n",
       "      <td>209</td>\n",
       "      <td>207</td>\n",
       "      <td>208</td>\n",
       "      <td>208</td>\n",
       "      <td>206</td>\n",
       "      <td>207</td>\n",
       "    </tr>\n",
       "    <tr>\n",
       "      <th>1</th>\n",
       "      <td>247</td>\n",
       "      <td>247</td>\n",
       "      <td>247</td>\n",
       "      <td>247</td>\n",
       "      <td>247</td>\n",
       "      <td>247</td>\n",
       "      <td>247</td>\n",
       "      <td>247</td>\n",
       "      <td>247</td>\n",
       "      <td>247</td>\n",
       "      <td>...</td>\n",
       "      <td>244</td>\n",
       "      <td>248</td>\n",
       "      <td>246</td>\n",
       "      <td>249</td>\n",
       "      <td>247</td>\n",
       "      <td>245</td>\n",
       "      <td>255</td>\n",
       "      <td>247</td>\n",
       "      <td>245</td>\n",
       "      <td>255</td>\n",
       "    </tr>\n",
       "    <tr>\n",
       "      <th>2</th>\n",
       "      <td>189</td>\n",
       "      <td>189</td>\n",
       "      <td>191</td>\n",
       "      <td>189</td>\n",
       "      <td>189</td>\n",
       "      <td>191</td>\n",
       "      <td>189</td>\n",
       "      <td>189</td>\n",
       "      <td>191</td>\n",
       "      <td>189</td>\n",
       "      <td>...</td>\n",
       "      <td>177</td>\n",
       "      <td>174</td>\n",
       "      <td>173</td>\n",
       "      <td>179</td>\n",
       "      <td>176</td>\n",
       "      <td>173</td>\n",
       "      <td>180</td>\n",
       "      <td>177</td>\n",
       "      <td>174</td>\n",
       "      <td>181</td>\n",
       "    </tr>\n",
       "    <tr>\n",
       "      <th>3</th>\n",
       "      <td>255</td>\n",
       "      <td>255</td>\n",
       "      <td>255</td>\n",
       "      <td>255</td>\n",
       "      <td>255</td>\n",
       "      <td>255</td>\n",
       "      <td>255</td>\n",
       "      <td>255</td>\n",
       "      <td>255</td>\n",
       "      <td>255</td>\n",
       "      <td>...</td>\n",
       "      <td>255</td>\n",
       "      <td>255</td>\n",
       "      <td>255</td>\n",
       "      <td>255</td>\n",
       "      <td>255</td>\n",
       "      <td>255</td>\n",
       "      <td>255</td>\n",
       "      <td>255</td>\n",
       "      <td>255</td>\n",
       "      <td>255</td>\n",
       "    </tr>\n",
       "  </tbody>\n",
       "</table>\n",
       "<p>4 rows × 12288 columns</p>\n",
       "</div>"
      ],
      "text/plain": [
       "   0      1      2      3      4      5      6      7      8      9      ...  \\\n",
       "0    230    228    229    230    228    229    229    227    230    229  ...   \n",
       "1    247    247    247    247    247    247    247    247    247    247  ...   \n",
       "2    189    189    191    189    189    191    189    189    191    189  ...   \n",
       "3    255    255    255    255    255    255    255    255    255    255  ...   \n",
       "\n",
       "   12278  12279  12280  12281  12282  12283  12284  12285  12286  12287  \n",
       "0    211    210    208    209    209    207    208    208    206    207  \n",
       "1    244    248    246    249    247    245    255    247    245    255  \n",
       "2    177    174    173    179    176    173    180    177    174    181  \n",
       "3    255    255    255    255    255    255    255    255    255    255  \n",
       "\n",
       "[4 rows x 12288 columns]"
      ]
     },
     "execution_count": 192,
     "metadata": {},
     "output_type": "execute_result"
    }
   ],
   "source": [
    "df"
   ]
  },
  {
   "cell_type": "code",
   "execution_count": 193,
   "metadata": {},
   "outputs": [],
   "source": [
    "df=df/255.0"
   ]
  },
  {
   "cell_type": "code",
   "execution_count": 194,
   "metadata": {},
   "outputs": [
    {
     "data": {
      "text/html": [
       "<div>\n",
       "<style scoped>\n",
       "    .dataframe tbody tr th:only-of-type {\n",
       "        vertical-align: middle;\n",
       "    }\n",
       "\n",
       "    .dataframe tbody tr th {\n",
       "        vertical-align: top;\n",
       "    }\n",
       "\n",
       "    .dataframe thead th {\n",
       "        text-align: right;\n",
       "    }\n",
       "</style>\n",
       "<table border=\"1\" class=\"dataframe\">\n",
       "  <thead>\n",
       "    <tr style=\"text-align: right;\">\n",
       "      <th></th>\n",
       "      <th>0</th>\n",
       "      <th>1</th>\n",
       "      <th>2</th>\n",
       "      <th>3</th>\n",
       "      <th>4</th>\n",
       "      <th>5</th>\n",
       "      <th>6</th>\n",
       "      <th>7</th>\n",
       "      <th>8</th>\n",
       "      <th>9</th>\n",
       "      <th>...</th>\n",
       "      <th>12278</th>\n",
       "      <th>12279</th>\n",
       "      <th>12280</th>\n",
       "      <th>12281</th>\n",
       "      <th>12282</th>\n",
       "      <th>12283</th>\n",
       "      <th>12284</th>\n",
       "      <th>12285</th>\n",
       "      <th>12286</th>\n",
       "      <th>12287</th>\n",
       "    </tr>\n",
       "  </thead>\n",
       "  <tbody>\n",
       "    <tr>\n",
       "      <th>0</th>\n",
       "      <td>0.901961</td>\n",
       "      <td>0.894118</td>\n",
       "      <td>0.898039</td>\n",
       "      <td>0.901961</td>\n",
       "      <td>0.894118</td>\n",
       "      <td>0.898039</td>\n",
       "      <td>0.898039</td>\n",
       "      <td>0.890196</td>\n",
       "      <td>0.901961</td>\n",
       "      <td>0.898039</td>\n",
       "      <td>...</td>\n",
       "      <td>0.827451</td>\n",
       "      <td>0.823529</td>\n",
       "      <td>0.815686</td>\n",
       "      <td>0.819608</td>\n",
       "      <td>0.819608</td>\n",
       "      <td>0.811765</td>\n",
       "      <td>0.815686</td>\n",
       "      <td>0.815686</td>\n",
       "      <td>0.807843</td>\n",
       "      <td>0.811765</td>\n",
       "    </tr>\n",
       "    <tr>\n",
       "      <th>1</th>\n",
       "      <td>0.968627</td>\n",
       "      <td>0.968627</td>\n",
       "      <td>0.968627</td>\n",
       "      <td>0.968627</td>\n",
       "      <td>0.968627</td>\n",
       "      <td>0.968627</td>\n",
       "      <td>0.968627</td>\n",
       "      <td>0.968627</td>\n",
       "      <td>0.968627</td>\n",
       "      <td>0.968627</td>\n",
       "      <td>...</td>\n",
       "      <td>0.956863</td>\n",
       "      <td>0.972549</td>\n",
       "      <td>0.964706</td>\n",
       "      <td>0.976471</td>\n",
       "      <td>0.968627</td>\n",
       "      <td>0.960784</td>\n",
       "      <td>1.000000</td>\n",
       "      <td>0.968627</td>\n",
       "      <td>0.960784</td>\n",
       "      <td>1.000000</td>\n",
       "    </tr>\n",
       "    <tr>\n",
       "      <th>2</th>\n",
       "      <td>0.741176</td>\n",
       "      <td>0.741176</td>\n",
       "      <td>0.749020</td>\n",
       "      <td>0.741176</td>\n",
       "      <td>0.741176</td>\n",
       "      <td>0.749020</td>\n",
       "      <td>0.741176</td>\n",
       "      <td>0.741176</td>\n",
       "      <td>0.749020</td>\n",
       "      <td>0.741176</td>\n",
       "      <td>...</td>\n",
       "      <td>0.694118</td>\n",
       "      <td>0.682353</td>\n",
       "      <td>0.678431</td>\n",
       "      <td>0.701961</td>\n",
       "      <td>0.690196</td>\n",
       "      <td>0.678431</td>\n",
       "      <td>0.705882</td>\n",
       "      <td>0.694118</td>\n",
       "      <td>0.682353</td>\n",
       "      <td>0.709804</td>\n",
       "    </tr>\n",
       "    <tr>\n",
       "      <th>3</th>\n",
       "      <td>1.000000</td>\n",
       "      <td>1.000000</td>\n",
       "      <td>1.000000</td>\n",
       "      <td>1.000000</td>\n",
       "      <td>1.000000</td>\n",
       "      <td>1.000000</td>\n",
       "      <td>1.000000</td>\n",
       "      <td>1.000000</td>\n",
       "      <td>1.000000</td>\n",
       "      <td>1.000000</td>\n",
       "      <td>...</td>\n",
       "      <td>1.000000</td>\n",
       "      <td>1.000000</td>\n",
       "      <td>1.000000</td>\n",
       "      <td>1.000000</td>\n",
       "      <td>1.000000</td>\n",
       "      <td>1.000000</td>\n",
       "      <td>1.000000</td>\n",
       "      <td>1.000000</td>\n",
       "      <td>1.000000</td>\n",
       "      <td>1.000000</td>\n",
       "    </tr>\n",
       "  </tbody>\n",
       "</table>\n",
       "<p>4 rows × 12288 columns</p>\n",
       "</div>"
      ],
      "text/plain": [
       "      0         1         2         3         4         5         6      \\\n",
       "0  0.901961  0.894118  0.898039  0.901961  0.894118  0.898039  0.898039   \n",
       "1  0.968627  0.968627  0.968627  0.968627  0.968627  0.968627  0.968627   \n",
       "2  0.741176  0.741176  0.749020  0.741176  0.741176  0.749020  0.741176   \n",
       "3  1.000000  1.000000  1.000000  1.000000  1.000000  1.000000  1.000000   \n",
       "\n",
       "      7         8         9      ...     12278     12279     12280     12281  \\\n",
       "0  0.890196  0.901961  0.898039  ...  0.827451  0.823529  0.815686  0.819608   \n",
       "1  0.968627  0.968627  0.968627  ...  0.956863  0.972549  0.964706  0.976471   \n",
       "2  0.741176  0.749020  0.741176  ...  0.694118  0.682353  0.678431  0.701961   \n",
       "3  1.000000  1.000000  1.000000  ...  1.000000  1.000000  1.000000  1.000000   \n",
       "\n",
       "      12282     12283     12284     12285     12286     12287  \n",
       "0  0.819608  0.811765  0.815686  0.815686  0.807843  0.811765  \n",
       "1  0.968627  0.960784  1.000000  0.968627  0.960784  1.000000  \n",
       "2  0.690196  0.678431  0.705882  0.694118  0.682353  0.709804  \n",
       "3  1.000000  1.000000  1.000000  1.000000  1.000000  1.000000  \n",
       "\n",
       "[4 rows x 12288 columns]"
      ]
     },
     "execution_count": 194,
     "metadata": {},
     "output_type": "execute_result"
    }
   ],
   "source": [
    "df"
   ]
  },
  {
   "cell_type": "code",
   "execution_count": 195,
   "metadata": {},
   "outputs": [],
   "source": [
    "from sklearn.decomposition import PCA"
   ]
  },
  {
   "cell_type": "code",
   "execution_count": 196,
   "metadata": {},
   "outputs": [],
   "source": [
    "pca = PCA(n_components = 2)"
   ]
  },
  {
   "cell_type": "code",
   "execution_count": 197,
   "metadata": {},
   "outputs": [],
   "source": [
    "pca_df = pca.fit_transform(df)"
   ]
  },
  {
   "cell_type": "code",
   "execution_count": 198,
   "metadata": {},
   "outputs": [],
   "source": [
    "df = pd.DataFrame(pca_df,columns=['f1','f2'])"
   ]
  },
  {
   "cell_type": "code",
   "execution_count": 199,
   "metadata": {},
   "outputs": [
    {
     "data": {
      "text/html": [
       "<div>\n",
       "<style scoped>\n",
       "    .dataframe tbody tr th:only-of-type {\n",
       "        vertical-align: middle;\n",
       "    }\n",
       "\n",
       "    .dataframe tbody tr th {\n",
       "        vertical-align: top;\n",
       "    }\n",
       "\n",
       "    .dataframe thead th {\n",
       "        text-align: right;\n",
       "    }\n",
       "</style>\n",
       "<table border=\"1\" class=\"dataframe\">\n",
       "  <thead>\n",
       "    <tr style=\"text-align: right;\">\n",
       "      <th></th>\n",
       "      <th>f1</th>\n",
       "      <th>f2</th>\n",
       "    </tr>\n",
       "  </thead>\n",
       "  <tbody>\n",
       "    <tr>\n",
       "      <th>0</th>\n",
       "      <td>-6.613401</td>\n",
       "      <td>-8.059849</td>\n",
       "    </tr>\n",
       "    <tr>\n",
       "      <th>1</th>\n",
       "      <td>-15.586459</td>\n",
       "      <td>-14.267295</td>\n",
       "    </tr>\n",
       "    <tr>\n",
       "      <th>2</th>\n",
       "      <td>-10.711291</td>\n",
       "      <td>23.164491</td>\n",
       "    </tr>\n",
       "    <tr>\n",
       "      <th>3</th>\n",
       "      <td>32.911151</td>\n",
       "      <td>-0.837346</td>\n",
       "    </tr>\n",
       "  </tbody>\n",
       "</table>\n",
       "</div>"
      ],
      "text/plain": [
       "          f1         f2\n",
       "0  -6.613401  -8.059849\n",
       "1 -15.586459 -14.267295\n",
       "2 -10.711291  23.164491\n",
       "3  32.911151  -0.837346"
      ]
     },
     "execution_count": 199,
     "metadata": {},
     "output_type": "execute_result"
    }
   ],
   "source": [
    "df"
   ]
  },
  {
   "cell_type": "code",
   "execution_count": null,
   "metadata": {},
   "outputs": [],
   "source": []
  },
  {
   "cell_type": "code",
   "execution_count": 200,
   "metadata": {},
   "outputs": [
    {
     "data": {
      "text/html": [
       "<div>\n",
       "<style scoped>\n",
       "    .dataframe tbody tr th:only-of-type {\n",
       "        vertical-align: middle;\n",
       "    }\n",
       "\n",
       "    .dataframe tbody tr th {\n",
       "        vertical-align: top;\n",
       "    }\n",
       "\n",
       "    .dataframe thead th {\n",
       "        text-align: right;\n",
       "    }\n",
       "</style>\n",
       "<table border=\"1\" class=\"dataframe\">\n",
       "  <thead>\n",
       "    <tr style=\"text-align: right;\">\n",
       "      <th></th>\n",
       "      <th>f1</th>\n",
       "      <th>f2</th>\n",
       "    </tr>\n",
       "  </thead>\n",
       "  <tbody>\n",
       "    <tr>\n",
       "      <th>0</th>\n",
       "      <td>-6.613401</td>\n",
       "      <td>-8.059849</td>\n",
       "    </tr>\n",
       "    <tr>\n",
       "      <th>1</th>\n",
       "      <td>-15.586459</td>\n",
       "      <td>-14.267295</td>\n",
       "    </tr>\n",
       "    <tr>\n",
       "      <th>2</th>\n",
       "      <td>-10.711291</td>\n",
       "      <td>23.164491</td>\n",
       "    </tr>\n",
       "    <tr>\n",
       "      <th>3</th>\n",
       "      <td>32.911151</td>\n",
       "      <td>-0.837346</td>\n",
       "    </tr>\n",
       "  </tbody>\n",
       "</table>\n",
       "</div>"
      ],
      "text/plain": [
       "          f1         f2\n",
       "0  -6.613401  -8.059849\n",
       "1 -15.586459 -14.267295\n",
       "2 -10.711291  23.164491\n",
       "3  32.911151  -0.837346"
      ]
     },
     "execution_count": 200,
     "metadata": {},
     "output_type": "execute_result"
    }
   ],
   "source": [
    "df"
   ]
  },
  {
   "cell_type": "code",
   "execution_count": 201,
   "metadata": {},
   "outputs": [],
   "source": [
    "from scipy.spatial.distance import cosine"
   ]
  },
  {
   "cell_type": "code",
   "execution_count": 202,
   "metadata": {},
   "outputs": [],
   "source": [
    "\n",
    "df['result'] = df.apply(lambda row: cosine(row,df.iloc[-1]), axis=1)"
   ]
  },
  {
   "cell_type": "code",
   "execution_count": 203,
   "metadata": {},
   "outputs": [
    {
     "data": {
      "text/html": [
       "<div>\n",
       "<style scoped>\n",
       "    .dataframe tbody tr th:only-of-type {\n",
       "        vertical-align: middle;\n",
       "    }\n",
       "\n",
       "    .dataframe tbody tr th {\n",
       "        vertical-align: top;\n",
       "    }\n",
       "\n",
       "    .dataframe thead th {\n",
       "        text-align: right;\n",
       "    }\n",
       "</style>\n",
       "<table border=\"1\" class=\"dataframe\">\n",
       "  <thead>\n",
       "    <tr style=\"text-align: right;\">\n",
       "      <th></th>\n",
       "      <th>f1</th>\n",
       "      <th>f2</th>\n",
       "      <th>result</th>\n",
       "    </tr>\n",
       "  </thead>\n",
       "  <tbody>\n",
       "    <tr>\n",
       "      <th>0</th>\n",
       "      <td>-6.613401</td>\n",
       "      <td>-8.059849</td>\n",
       "      <td>1.614460</td>\n",
       "    </tr>\n",
       "    <tr>\n",
       "      <th>1</th>\n",
       "      <td>-15.586459</td>\n",
       "      <td>-14.267295</td>\n",
       "      <td>1.720220</td>\n",
       "    </tr>\n",
       "    <tr>\n",
       "      <th>2</th>\n",
       "      <td>-10.711291</td>\n",
       "      <td>23.164491</td>\n",
       "      <td>1.442654</td>\n",
       "    </tr>\n",
       "    <tr>\n",
       "      <th>3</th>\n",
       "      <td>32.911151</td>\n",
       "      <td>-0.837346</td>\n",
       "      <td>0.000000</td>\n",
       "    </tr>\n",
       "  </tbody>\n",
       "</table>\n",
       "</div>"
      ],
      "text/plain": [
       "          f1         f2    result\n",
       "0  -6.613401  -8.059849  1.614460\n",
       "1 -15.586459 -14.267295  1.720220\n",
       "2 -10.711291  23.164491  1.442654\n",
       "3  32.911151  -0.837346  0.000000"
      ]
     },
     "execution_count": 203,
     "metadata": {},
     "output_type": "execute_result"
    }
   ],
   "source": [
    "df"
   ]
  },
  {
   "cell_type": "code",
   "execution_count": 204,
   "metadata": {},
   "outputs": [],
   "source": [
    "df['id'] = ['img_1','img_2','img_3','img_4']"
   ]
  },
  {
   "cell_type": "code",
   "execution_count": 205,
   "metadata": {},
   "outputs": [
    {
     "data": {
      "text/html": [
       "<div>\n",
       "<style scoped>\n",
       "    .dataframe tbody tr th:only-of-type {\n",
       "        vertical-align: middle;\n",
       "    }\n",
       "\n",
       "    .dataframe tbody tr th {\n",
       "        vertical-align: top;\n",
       "    }\n",
       "\n",
       "    .dataframe thead th {\n",
       "        text-align: right;\n",
       "    }\n",
       "</style>\n",
       "<table border=\"1\" class=\"dataframe\">\n",
       "  <thead>\n",
       "    <tr style=\"text-align: right;\">\n",
       "      <th></th>\n",
       "      <th>f1</th>\n",
       "      <th>f2</th>\n",
       "      <th>result</th>\n",
       "      <th>id</th>\n",
       "    </tr>\n",
       "  </thead>\n",
       "  <tbody>\n",
       "    <tr>\n",
       "      <th>0</th>\n",
       "      <td>-6.613401</td>\n",
       "      <td>-8.059849</td>\n",
       "      <td>1.614460</td>\n",
       "      <td>img_1</td>\n",
       "    </tr>\n",
       "    <tr>\n",
       "      <th>1</th>\n",
       "      <td>-15.586459</td>\n",
       "      <td>-14.267295</td>\n",
       "      <td>1.720220</td>\n",
       "      <td>img_2</td>\n",
       "    </tr>\n",
       "    <tr>\n",
       "      <th>2</th>\n",
       "      <td>-10.711291</td>\n",
       "      <td>23.164491</td>\n",
       "      <td>1.442654</td>\n",
       "      <td>img_3</td>\n",
       "    </tr>\n",
       "    <tr>\n",
       "      <th>3</th>\n",
       "      <td>32.911151</td>\n",
       "      <td>-0.837346</td>\n",
       "      <td>0.000000</td>\n",
       "      <td>img_4</td>\n",
       "    </tr>\n",
       "  </tbody>\n",
       "</table>\n",
       "</div>"
      ],
      "text/plain": [
       "          f1         f2    result     id\n",
       "0  -6.613401  -8.059849  1.614460  img_1\n",
       "1 -15.586459 -14.267295  1.720220  img_2\n",
       "2 -10.711291  23.164491  1.442654  img_3\n",
       "3  32.911151  -0.837346  0.000000  img_4"
      ]
     },
     "execution_count": 205,
     "metadata": {},
     "output_type": "execute_result"
    }
   ],
   "source": [
    "df"
   ]
  },
  {
   "cell_type": "code",
   "execution_count": 209,
   "metadata": {},
   "outputs": [],
   "source": [
    "with open('pixels.pkl','wb') as f:\n",
    "    pickle.dump(p,f)"
   ]
  },
  {
   "cell_type": "code",
   "execution_count": 210,
   "metadata": {},
   "outputs": [],
   "source": [
    "with open('pixels.pkl','rb') as f:\n",
    "    newlist = pickle.load(f)"
   ]
  },
  {
   "cell_type": "code",
   "execution_count": 211,
   "metadata": {},
   "outputs": [
    {
     "data": {
      "text/plain": [
       "[array([230, 228, 229, ..., 208, 206, 207], dtype=uint8),\n",
       " array([247, 247, 247, ..., 247, 245, 255], dtype=uint8),\n",
       " array([189, 189, 191, ..., 177, 174, 181], dtype=uint8)]"
      ]
     },
     "execution_count": 211,
     "metadata": {},
     "output_type": "execute_result"
    }
   ],
   "source": [
    "newlist"
   ]
  },
  {
   "cell_type": "code",
   "execution_count": null,
   "metadata": {},
   "outputs": [],
   "source": []
  }
 ],
 "metadata": {
  "kernelspec": {
   "display_name": "Python 3",
   "language": "python",
   "name": "python3"
  },
  "language_info": {
   "codemirror_mode": {
    "name": "ipython",
    "version": 3
   },
   "file_extension": ".py",
   "mimetype": "text/x-python",
   "name": "python",
   "nbconvert_exporter": "python",
   "pygments_lexer": "ipython3",
   "version": "3.7.7"
  }
 },
 "nbformat": 4,
 "nbformat_minor": 4
}
